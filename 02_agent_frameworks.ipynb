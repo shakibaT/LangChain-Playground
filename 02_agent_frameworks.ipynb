{
 "cells": [
  {
   "cell_type": "markdown",
   "metadata": {},
   "source": [
    "# 🤖 AI Agent Frameworks: CrewAI vs. OpenAI Swarm vs. AutoGen vs. LangChain\n",
    "\n",
    "A comparison of modern frameworks for building **AI agents and collaborative systems**. Each tool serves different use cases — from role-based teamwork to fully autonomous swarms of LLMs.\n",
    "\n",
    "---\n",
    "\n",
    "## 📌 What Are These Frameworks?\n",
    "\n",
    "| Tool            | What It Is in Grandma’s Words                                                                              |\n",
    "|-----------------|------------------------------------------------------------------------------------------------------------|\n",
    "| **CrewAI**      | A Python framework that lets you set up a small **team of AI agents**, each with its own job and specialty. |\n",
    "| **OpenAI Swarm**| An **experimental, educational** toolkit from OpenAI where AI agents pass tasks to one another like bees in a hive. |\n",
    "| **AutoGen**     | Microsoft’s open‑source framework that makes AI agents **talk to each other (and you!)** to get things done. |\n",
    "| **LangChain**   | An open‑source **toolkit** for building AI apps by **linking** prompts, tools, and memory together like building blocks. |\n",
    "\n",
    "\n",
    "---\n",
    "\n",
    "## 🧱 Architecture & Philosophy\n",
    "\n",
    "| Aspect                 | **CrewAI**                             | **OpenAI Swarm**                         | **AutoGen**                                 | **LangChain**                                  |\n",
    "|------------------------|----------------------------------------|------------------------------------------|----------------------------------------------|------------------------------------------------|\n",
    "| Core Idea              | Assign agents roles and tasks          | Swarm of agents coordinating dynamically | Agents \"chat\" to solve problems              | Link tools, memory, and logic in LLM pipelines |\n",
    "| Design Style           | Role-based teamwork                    | Collective swarm behavior                | Conversational (turn-taking) agents          | Component-based programming                    |\n",
    "| Human Participation    | Optional (can automate or supervise)   | Mostly automated                         | Strong support for humans-in-the-loop        | Fully supports UI + feedback loops             |\n",
    "| Task Handling          | Explicit task delegation               | Implicit collaboration                   | Goal-oriented conversations                  | Function-based chaining and routing            |\n",
    "\n",
    "---\n",
    "\n",
    "## 🚀 What Can They Do?\n",
    "\n",
    "| Capability                        | CrewAI     | OpenAI Swarm | AutoGen    | LangChain   |\n",
    "|-----------------------------------|------------|--------------|------------|-------------|\n",
    "| Multi-Agent Collaboration         | ✅ Native  | ✅ Core idea | ✅ Core    | ⚠️ Requires setup  |\n",
    "| Tool/Function Integration         | ✅ Easy    | ✅ Internally| ✅ Strong  | ✅ Extensive |\n",
    "| Conversation between Agents       | 🟡 Limited | ✅ Likely    | ✅ Core    | ✅ With logic |\n",
    "| Memory / Context Retention        | 🟡 Basic   | ❓ Unknown   | ✅ Built-in| ✅ Vector stores, LangGraph |\n",
    "| Task Decomposition & Delegation  | ✅ Strong  | ✅ Emergent  | ⚠️ Manual | ✅ Agents + planners |\n",
    "| Workflow Observability            | 🟡 Logs    | ❓ Closed    | ✅ Logs   | ✅ Dev tools |\n",
    "| Visualization / UI Options        | 🟡 CLI/Web | ❓ Not public| 🟡 Jupyter | ✅ Streamlit, LangServe, etc. |\n",
    "\n",
    "---\n",
    "\n",
    "## 🧑‍💻 Developer Experience\n",
    "\n",
    "| Aspect                   | CrewAI         | OpenAI Swarm    | AutoGen           | LangChain         |\n",
    "|--------------------------|----------------|------------------|--------------------|--------------------|\n",
    "| Open Source?             | ✅ Yes          | ❌ No             | ✅ Yes              | ✅ Yes              |\n",
    "| Ease of Use              | 🟡 Moderate     | ❓ Unknown         | 🟢 Very Simple      | 🟢 Flexible & modular |\n",
    "| Learning Curve           | 🟡 Low-Mid      | ❓ Unknown         | 🟢 Beginner-friendly| 🟡 Depends on usage  |\n",
    "| Documentation            | Medium (growing)| Not available     | Well-documented    | Extensive resources |\n",
    "| Extensibility            | ✅ High         | ❓ Unknown         | ✅ Modular design   | ✅ Very extensible  |\n",
    "| Community                | 🟡 Growing      | ❌ Closed          | 🟢 Active GitHub    | 🟢 Large ecosystem  |\n",
    "\n",
    "---\n",
    "\n",
    "## 🎯 Best Use Cases\n",
    "\n",
    "| Use Case                                | CrewAI    | OpenAI Swarm | AutoGen   | LangChain |\n",
    "|-----------------------------------------|-----------|--------------|-----------|-----------|\n",
    "| Simulating AI teams (e.g. startups)     | ✅        | 🟡 Possible  | 🟡        | ✅        |\n",
    "| Human + AI collaboration                | 🟡 Basic  | ❌ Not focus | ✅ Strong | ✅        |\n",
    "| Code generation/debugging               | ✅        | ✅           | ✅        | ✅        |\n",
    "| Automating multi-step tasks             | ✅        | ✅           | ✅        | ✅        |\n",
    "| Building full-stack AI apps             | ⚠️ Minimal| ❌ Closed    | 🟡 Partial| ✅ Designed for this |\n",
    "| Academic/Research agent experiments     | ✅        | ✅           | ✅        | ✅        |\n",
    "\n",
    "---\n",
    "\n",
    "## 📊 Summary Table\n",
    "\n",
    "| Tool            | Best For                                | Maturity   | Customization | Public Access |\n",
    "|------------------|------------------------------------------|------------|----------------|----------------|\n",
    "| **CrewAI**        | Role-based agent teamwork                | Early      | High           | ✅ Yes          |\n",
    "| **OpenAI Swarm**  | Internal swarm-based agent orchestration | Advanced   | ❓ Unknown      | ❌ Closed       |\n",
    "| **AutoGen**       | Conversational agent workflows           | Medium     | High           | ✅ Yes          |\n",
    "| **LangChain**     | Building production-ready LLM applications| Mature     | Very High      | ✅ Yes          |\n",
    "\n",
    "---\n",
    "\n",
    "## 💡 Quick Takeaways\n",
    "\n",
    "- **CrewAI** is great for simulating teams of agents that act like employees on a mission.\n",
    "- **OpenAI Swarm** is powerful but not publicly available — likely used in Team ChatGPT.\n",
    "- **AutoGen** is the easiest way to build agents that talk to each other (and you).\n",
    "- **LangChain** is your go-to for serious LLM apps that need tools, memory, and UI.\n",
    "\n",
    "---\n",
    "\n"
   ]
  },
  {
   "cell_type": "markdown",
   "metadata": {},
   "source": [
    "## OpenAI Swarm Example"
   ]
  },
  {
   "cell_type": "code",
   "execution_count": 1,
   "metadata": {},
   "outputs": [],
   "source": [
    "import json\n",
    "\n",
    "from swarm import Agent\n",
    "\n",
    "\n",
    "def get_weather(location, time=\"now\"):\n",
    "    \"\"\"Get the current weather in a given location. Location MUST be a city.\"\"\"\n",
    "    return json.dumps({\"location\": location, \"temperature\": \"65\", \"time\": time})\n",
    "\n",
    "\n",
    "def send_email(recipient, subject, body):\n",
    "    print(\"Sending email...\")\n",
    "    print(f\"To: {recipient}\")\n",
    "    print(f\"Subject: {subject}\")\n",
    "    print(f\"Body: {body}\")\n",
    "    return \"Sent!\"\n",
    "\n",
    "\n",
    "weather_agent = Agent(\n",
    "    name=\"Weather Agent\",\n",
    "    instructions=\"You are a helpful agent.\",\n",
    "    functions=[get_weather, send_email],\n",
    ")"
   ]
  },
  {
   "cell_type": "code",
   "execution_count": 3,
   "metadata": {},
   "outputs": [
    {
     "name": "stdout",
     "output_type": "stream",
     "text": [
      "Starting Swarm CLI 🐝\n",
      "\u001b[94mWeather Agent: \u001b[95mget_weather\u001b[0m()\n",
      "\u001b[94mWeather Agent:\u001b[0m The current temperature in Tehran is 65°F.\n",
      "\u001b[94mWeather Agent:\u001b[0m Can you please provide your email address so I can send the weather information to you?\n",
      "\u001b[94mWeather Agent: \u001b[95msend_email\u001b[0m()\n",
      "Sending email...\n",
      "To: shakiba@shakiba.com\n",
      "Subject: Current Weather in Tehran\n",
      "Body: The current temperature in Tehran is 65°F.\n",
      "\u001b[94mWeather Agent:\u001b[0m The weather information has been sent to your email, shakiba@shakiba.com.\n",
      "\u001b[94mWeather Agent:\u001b[0m Is there anything else you would like to know or need help with?\n"
     ]
    },
    {
     "ename": "KeyboardInterrupt",
     "evalue": "Interrupted by user",
     "output_type": "error",
     "traceback": [
      "\u001b[0;31m---------------------------------------------------------------------------\u001b[0m",
      "\u001b[0;31mKeyboardInterrupt\u001b[0m                         Traceback (most recent call last)",
      "Cell \u001b[0;32mIn[3], line 4\u001b[0m\n\u001b[1;32m      1\u001b[0m \u001b[38;5;28;01mfrom\u001b[39;00m \u001b[38;5;21;01mswarm\u001b[39;00m\u001b[38;5;21;01m.\u001b[39;00m\u001b[38;5;21;01mrepl\u001b[39;00m \u001b[38;5;28;01mimport\u001b[39;00m run_demo_loop\n\u001b[1;32m      3\u001b[0m \u001b[38;5;28;01mif\u001b[39;00m \u001b[38;5;18m__name__\u001b[39m \u001b[38;5;241m==\u001b[39m \u001b[38;5;124m\"\u001b[39m\u001b[38;5;124m__main__\u001b[39m\u001b[38;5;124m\"\u001b[39m:\n\u001b[0;32m----> 4\u001b[0m     \u001b[43mrun_demo_loop\u001b[49m\u001b[43m(\u001b[49m\u001b[43mweather_agent\u001b[49m\u001b[43m,\u001b[49m\u001b[43m \u001b[49m\u001b[43mstream\u001b[49m\u001b[38;5;241;43m=\u001b[39;49m\u001b[38;5;28;43;01mTrue\u001b[39;49;00m\u001b[43m)\u001b[49m\n",
      "File \u001b[0;32m~/Documents/personal/my_content/LangChain-Playground/venv/lib/python3.11/site-packages/swarm/repl/repl.py:70\u001b[0m, in \u001b[0;36mrun_demo_loop\u001b[0;34m(starting_agent, context_variables, stream, debug)\u001b[0m\n\u001b[1;32m     67\u001b[0m agent \u001b[38;5;241m=\u001b[39m starting_agent\n\u001b[1;32m     69\u001b[0m \u001b[38;5;28;01mwhile\u001b[39;00m \u001b[38;5;28;01mTrue\u001b[39;00m:\n\u001b[0;32m---> 70\u001b[0m     user_input \u001b[38;5;241m=\u001b[39m \u001b[38;5;28;43minput\u001b[39;49m\u001b[43m(\u001b[49m\u001b[38;5;124;43m\"\u001b[39;49m\u001b[38;5;130;43;01m\\033\u001b[39;49;00m\u001b[38;5;124;43m[90mUser\u001b[39;49m\u001b[38;5;130;43;01m\\033\u001b[39;49;00m\u001b[38;5;124;43m[0m: \u001b[39;49m\u001b[38;5;124;43m\"\u001b[39;49m\u001b[43m)\u001b[49m\n\u001b[1;32m     71\u001b[0m     messages\u001b[38;5;241m.\u001b[39mappend({\u001b[38;5;124m\"\u001b[39m\u001b[38;5;124mrole\u001b[39m\u001b[38;5;124m\"\u001b[39m: \u001b[38;5;124m\"\u001b[39m\u001b[38;5;124muser\u001b[39m\u001b[38;5;124m\"\u001b[39m, \u001b[38;5;124m\"\u001b[39m\u001b[38;5;124mcontent\u001b[39m\u001b[38;5;124m\"\u001b[39m: user_input})\n\u001b[1;32m     73\u001b[0m     response \u001b[38;5;241m=\u001b[39m client\u001b[38;5;241m.\u001b[39mrun(\n\u001b[1;32m     74\u001b[0m         agent\u001b[38;5;241m=\u001b[39magent,\n\u001b[1;32m     75\u001b[0m         messages\u001b[38;5;241m=\u001b[39mmessages,\n\u001b[0;32m   (...)\u001b[0m\n\u001b[1;32m     78\u001b[0m         debug\u001b[38;5;241m=\u001b[39mdebug,\n\u001b[1;32m     79\u001b[0m     )\n",
      "File \u001b[0;32m~/Documents/personal/my_content/LangChain-Playground/venv/lib/python3.11/site-packages/ipykernel/kernelbase.py:1282\u001b[0m, in \u001b[0;36mKernel.raw_input\u001b[0;34m(self, prompt)\u001b[0m\n\u001b[1;32m   1280\u001b[0m     msg \u001b[38;5;241m=\u001b[39m \u001b[38;5;124m\"\u001b[39m\u001b[38;5;124mraw_input was called, but this frontend does not support input requests.\u001b[39m\u001b[38;5;124m\"\u001b[39m\n\u001b[1;32m   1281\u001b[0m     \u001b[38;5;28;01mraise\u001b[39;00m StdinNotImplementedError(msg)\n\u001b[0;32m-> 1282\u001b[0m \u001b[38;5;28;01mreturn\u001b[39;00m \u001b[38;5;28;43mself\u001b[39;49m\u001b[38;5;241;43m.\u001b[39;49m\u001b[43m_input_request\u001b[49m\u001b[43m(\u001b[49m\n\u001b[1;32m   1283\u001b[0m \u001b[43m    \u001b[49m\u001b[38;5;28;43mstr\u001b[39;49m\u001b[43m(\u001b[49m\u001b[43mprompt\u001b[49m\u001b[43m)\u001b[49m\u001b[43m,\u001b[49m\n\u001b[1;32m   1284\u001b[0m \u001b[43m    \u001b[49m\u001b[38;5;28;43mself\u001b[39;49m\u001b[38;5;241;43m.\u001b[39;49m\u001b[43m_parent_ident\u001b[49m\u001b[43m[\u001b[49m\u001b[38;5;124;43m\"\u001b[39;49m\u001b[38;5;124;43mshell\u001b[39;49m\u001b[38;5;124;43m\"\u001b[39;49m\u001b[43m]\u001b[49m\u001b[43m,\u001b[49m\n\u001b[1;32m   1285\u001b[0m \u001b[43m    \u001b[49m\u001b[38;5;28;43mself\u001b[39;49m\u001b[38;5;241;43m.\u001b[39;49m\u001b[43mget_parent\u001b[49m\u001b[43m(\u001b[49m\u001b[38;5;124;43m\"\u001b[39;49m\u001b[38;5;124;43mshell\u001b[39;49m\u001b[38;5;124;43m\"\u001b[39;49m\u001b[43m)\u001b[49m\u001b[43m,\u001b[49m\n\u001b[1;32m   1286\u001b[0m \u001b[43m    \u001b[49m\u001b[43mpassword\u001b[49m\u001b[38;5;241;43m=\u001b[39;49m\u001b[38;5;28;43;01mFalse\u001b[39;49;00m\u001b[43m,\u001b[49m\n\u001b[1;32m   1287\u001b[0m \u001b[43m\u001b[49m\u001b[43m)\u001b[49m\n",
      "File \u001b[0;32m~/Documents/personal/my_content/LangChain-Playground/venv/lib/python3.11/site-packages/ipykernel/kernelbase.py:1325\u001b[0m, in \u001b[0;36mKernel._input_request\u001b[0;34m(self, prompt, ident, parent, password)\u001b[0m\n\u001b[1;32m   1322\u001b[0m \u001b[38;5;28;01mexcept\u001b[39;00m \u001b[38;5;167;01mKeyboardInterrupt\u001b[39;00m:\n\u001b[1;32m   1323\u001b[0m     \u001b[38;5;66;03m# re-raise KeyboardInterrupt, to truncate traceback\u001b[39;00m\n\u001b[1;32m   1324\u001b[0m     msg \u001b[38;5;241m=\u001b[39m \u001b[38;5;124m\"\u001b[39m\u001b[38;5;124mInterrupted by user\u001b[39m\u001b[38;5;124m\"\u001b[39m\n\u001b[0;32m-> 1325\u001b[0m     \u001b[38;5;28;01mraise\u001b[39;00m \u001b[38;5;167;01mKeyboardInterrupt\u001b[39;00m(msg) \u001b[38;5;28;01mfrom\u001b[39;00m \u001b[38;5;28;01mNone\u001b[39;00m\n\u001b[1;32m   1326\u001b[0m \u001b[38;5;28;01mexcept\u001b[39;00m \u001b[38;5;167;01mException\u001b[39;00m:\n\u001b[1;32m   1327\u001b[0m     \u001b[38;5;28mself\u001b[39m\u001b[38;5;241m.\u001b[39mlog\u001b[38;5;241m.\u001b[39mwarning(\u001b[38;5;124m\"\u001b[39m\u001b[38;5;124mInvalid Message:\u001b[39m\u001b[38;5;124m\"\u001b[39m, exc_info\u001b[38;5;241m=\u001b[39m\u001b[38;5;28;01mTrue\u001b[39;00m)\n",
      "\u001b[0;31mKeyboardInterrupt\u001b[0m: Interrupted by user"
     ]
    }
   ],
   "source": [
    "from swarm.repl import run_demo_loop\n",
    "\n",
    "if __name__ == \"__main__\":\n",
    "    run_demo_loop(weather_agent, stream=True)"
   ]
  },
  {
   "cell_type": "markdown",
   "metadata": {},
   "source": [
    "| Feature                  | OpenAI Swarm                     | OpenAI Agents SDK                     |\n",
    "|--------------------------|----------------------------------|---------------------------------------|\n",
    "| Purpose                  | Educational and experimental     | Production-ready development          |\n",
    "| Architecture             | Client-side, stateless           | Server-side, stateful                 |\n",
    "| Tooling                  | Minimal                          | Extensive built-in tools              |\n",
    "| Workflow Orchestration   | Basic agents and handoffs        | Advanced orchestration with guardrails|\n",
    "| Observability            | Limited                          | Built-in tracing and debugging        |\n",
    "| Ideal For                | Learning and prototyping         | Enterprise-grade applications         |\n",
    "\n",
    "\n",
    "This is [Agent SDK Repo](https://github.com/openai/openai-agents-python)\n",
    "This is [Documentation](https://openai.github.io/openai-agents-python/)"
   ]
  },
  {
   "cell_type": "code",
   "execution_count": null,
   "metadata": {},
   "outputs": [],
   "source": []
  }
 ],
 "metadata": {
  "kernelspec": {
   "display_name": "venv",
   "language": "python",
   "name": "python3"
  },
  "language_info": {
   "codemirror_mode": {
    "name": "ipython",
    "version": 3
   },
   "file_extension": ".py",
   "mimetype": "text/x-python",
   "name": "python",
   "nbconvert_exporter": "python",
   "pygments_lexer": "ipython3",
   "version": "3.11.3"
  }
 },
 "nbformat": 4,
 "nbformat_minor": 2
}
