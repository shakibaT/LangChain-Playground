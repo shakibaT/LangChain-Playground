{
 "cells": [
  {
   "cell_type": "markdown",
   "metadata": {},
   "source": [
    "## More complecated Agents:\n",
    "\n",
    "In practice, building systems that reliably execute on tasks is incredibly challenging. While agents offer dynamic decision-making capabilities, their flexibility can sometimes result in unpredictable or suboptimal behavior, particularly in production environments. As we’ve worked with users to put agents into production, we’ve learned that achieving consistent and accurate outcomes often requires more control and structure. In practice though, it is incredibly difficult to build systems that reliably execute on these tasks.\n",
    "\n",
    "For instance, you might need an agent to always call a specific tool first, ensure a predefined sequence of actions, or use tailored prompts depending on its state or context. This level of precision is difficult to achieve with unstructured agent workflows alone. To address these challenges, LangChain introduces LangGraph, a framework that allows developers to define workflows and decision paths in a more structured and deterministic way.\n",
    "\n",
    "### LangGraph enables users to:\n",
    "\n",
    "* Define Explicit Paths: Establish clear decision-making workflows, ensuring that agents follow specific sequences or conditions.\n",
    "* State-Aware Execution: Adapt prompts and tool usage dynamically based on the agent's state, enabling more context-sensitive behavior.\n",
    "* Blend Flexibility and Control: Combine the adaptability of agents with the reliability of structured logic, making it easier to meet production-grade requirements.\n",
    "\n",
    "By incorporating LangGraph, developers can move beyond purely reactive agents to build systems that are both agentic and reliable, bridging the gap between flexibility and control. This approach ensures that agents not only make intelligent decisions but also adhere to the operational constraints and business logic necessary for robust performance in real-world applications.\n",
    "\n",
    "LangGraph provides a structured framework for building workflows that leverage language models and tools in a highly controlled and deterministic manner. Below is an expanded overview of the core concepts mentioned on the [LangGraph High-Level Concepts page](https://langchain-ai.github.io/langgraph/concepts/high_level/), with additional context and examples."
   ]
  },
  {
   "cell_type": "markdown",
   "metadata": {},
   "source": [
    "### Key Concepts in LangGraph\n",
    "\n",
    "LangGraph's low-level concepts focus on how workflows are represented, emphasizing the interplay between states, nodes, and edges.\n",
    "\n",
    "### 1. `State`\n",
    "The state represents the current status or context of the workflow at any given moment. Technically, the state is implemented as a TypedDict or a Pydantic model, which provides a structured and validated way to represent and manipulate data.\n",
    "\n",
    "#### Key Features:\n",
    "\n",
    "* Dynamic Updates: The state evolves as the workflow progresses, reflecting changes in real time.\n",
    "* Context Awareness: Keeps track of past interactions or memory, ensuring seamless continuity.\n",
    "* Flexible Prompts: Adjusts outputs dynamically based on the current state.\n",
    "* Data Validation: Ensures safety and accuracy through strict typing and validation.\n",
    "\n",
    "\n",
    "### 2. `Node`\n",
    "\n",
    "Nodes represent discrete units of work or logic within the workflow. Technically, nodes are implemented as Python functions that encapsulate specific tasks. Each node interacts with the state and may invoke tools, APIs, or other resources.\n",
    "\n",
    "#### Key Features:\n",
    "\n",
    "* Defined Tasks: Nodes handle anything from simple actions to complex operations.\n",
    "* Tool Integration: Nodes often call external resources like APIs or tools.\n",
    "* State Interaction: They read and update the state to guide workflow progression.\n",
    "* Reusable Design: Nodes are modular, making it easy to build workflows by combining small, reusable functions.\n",
    "\n",
    "\n",
    "### 3. `Edge`\n",
    "\n",
    "Edges define the transitions between nodes, dictating the flow of execution within the workflow. Technically, edges are implemented as conditional logic or callable objects that evaluate the current state and determine the next node to execute.\n",
    "\n",
    "#### Key Features:\n",
    "\n",
    "* Conditional Paths: Edges use rules to decide the next step (e.g., if-else logic).\n",
    "* Sequential Control: Maintains a predictable order of operations.\n",
    "* Adaptability: Adjusts dynamically to changing state conditions.\n",
    "* Visualization: Helps map out and debug workflows more easily.\n",
    "\n",
    "\n",
    "For more information you can check [LangGraph Low-Level Concepts page](https://langchain-ai.github.io/langgraph/concepts/low_level/)"
   ]
  },
  {
   "cell_type": "markdown",
   "metadata": {},
   "source": [
    "Let's dive in greating simple graph! this example is coming from `langchain-academy`."
   ]
  },
  {
   "cell_type": "markdown",
   "metadata": {},
   "source": [
    "Let’s start with the simplest form of graph in LangGraph:"
   ]
  },
  {
   "cell_type": "markdown",
   "metadata": {},
   "source": [
    "## State\n",
    "The following state definition uses a `TypedDict` to store one piece of information, called `graph_state`, which is just a string. Even though it’s simple, this type of state can be very helpful for many tasks, such as:\n",
    "\n",
    "* Tracking Progress: Keeping track of where you are in a workflow or process.\n",
    "\n",
    "* Storing Context: Remembering the current step or stage in a conversation or task.\n",
    "\n",
    "* Keeping Notes: Holding small pieces of important information, like the active node in a process.\n",
    "\n",
    "(more info [here](https://medium.com/@gitmaxd/understanding-state-in-langgraph-a-comprehensive-guide-191462220997))"
   ]
  },
  {
   "cell_type": "code",
   "execution_count": 1,
   "metadata": {},
   "outputs": [],
   "source": [
    "from typing_extensions import TypedDict\n",
    "\n",
    "class State(TypedDict):\n",
    "    graph_state: str"
   ]
  },
  {
   "cell_type": "markdown",
   "metadata": {},
   "source": [
    "## Nodes\n",
    "As defined in langchain-academy, [Nodes](https://langchain-ai.github.io/langgraph/concepts/low_level/#nodes) are just python functions.\n",
    "The first positional argument is the state, as defined above.\n",
    "Because the state is a `TypedDict` with schema as defined above, each node can access the key, `graph_state`, with `state['graph_state']`.\n",
    "Each node returns a new value of the state key `graph_state`.\n",
    "By default, the new value returned by each node [will override](https://langchain-ai.github.io/langgraph/concepts/low_level/#reducers) the prior state value."
   ]
  },
  {
   "cell_type": "code",
   "execution_count": 17,
   "metadata": {},
   "outputs": [],
   "source": [
    "def node_greeting(state):\n",
    "    print(\"---Node Greeting---\")\n",
    "    return {\"graph_state\": state['graph_state'] + \" Hello! I am\"}\n",
    "\n",
    "def node_happy(state):\n",
    "    print(\"---Node Happy---\")\n",
    "    return {\"graph_state\": state['graph_state'] + \" very happy today!\"}\n",
    "\n",
    "def node_sad(state):\n",
    "    print(\"---Node Sad---\")\n",
    "    return {\"graph_state\": state['graph_state'] + \" very sad!\"}\n"
   ]
  },
  {
   "cell_type": "markdown",
   "metadata": {},
   "source": [
    "## Edges\n",
    "\n",
    "[Edges](https://langchain-ai.github.io/langgraph/concepts/low_level/#edges) connect the nodes.\n",
    "\n",
    "Normal Edges are used if you want to *always* go from, for example, `node_greeting` to `node_question`.\n",
    "\n",
    "[Conditional Edges](https://langchain-ai.github.io/langgraph/reference/graphs/?h=conditional+edge#langgraph.graph.StateGraph.add_conditional_edges) are used want to *optionally* route between nodes.\n",
    " \n",
    "Conditional edges are implemented as functions that return the next node to visit based upon some logic."
   ]
  },
  {
   "cell_type": "code",
   "execution_count": 18,
   "metadata": {},
   "outputs": [],
   "source": [
    "import random\n",
    "from typing import Literal\n",
    "\n",
    "def decide_mood(state) -> Literal[\"node_happy\", \"node_sad\"]:\n",
    "    print(\"---Deciding Next Node---\")\n",
    "    \n",
    "    user_input = state['graph_state']\n",
    "    \n",
    "    # Here, let's just do a 50 / 50 split between nodes\n",
    "    if random.random() < 0.5:\n",
    "\n",
    "        # 50% of the time, we return Node happy\n",
    "        return \"node_happy\"\n",
    "    \n",
    "    # 50% of the time, we return Node sad\n",
    "    return \"node_sad\""
   ]
  },
  {
   "cell_type": "markdown",
   "metadata": {},
   "source": [
    "## Graph Construction\n",
    "In this step, we create a graph using the StateGraph class, which is the foundational class for building workflows in LangGraph.\n",
    "\n",
    "**Steps**:\n",
    "\n",
    "1. Initialize the StateGraph\n",
    "\n",
    "    * Begin by initializing a StateGraph using the `State` class we defined earlier. This establishes the structure to hold the graph’s workflow logic.\n",
    "2. Add `Nodes` and `Edges`\n",
    "\n",
    "    * Add the functional components (nodes) that represent tasks or decisions in the workflow.\n",
    "    * Define the connections (edges) between these nodes to control the flow of execution.\n",
    "3. Set Starting Point\n",
    "\n",
    "    * Use the START node as the entry point for the graph. This special node handles user input and directs it to the appropriate starting node.\n",
    "4. Define the Endpoint\n",
    "\n",
    "    * Incorporate the END node to signal the conclusion of the graph's workflow.\n",
    "5. Compile the Graph\n",
    "\n",
    "    * Perform a validation step by compiling the graph. This ensures that the structure is consistent and ready for execution.\n",
    "6. Visualize the Graph\n",
    "\n",
    "    * Generate a Mermaid diagram to visually represent the nodes and edges, making it easier to understand and debug the workflow."
   ]
  },
  {
   "cell_type": "code",
   "execution_count": 19,
   "metadata": {},
   "outputs": [
    {
     "data": {
      "image/png": "[encoded data removed]",
      "text/plain": [
       "<IPython.core.display.Image object>"
      ]
     },
     "metadata": {},
     "output_type": "display_data"
    }
   ],
   "source": [
    "from IPython.display import Image, display\n",
    "from langgraph.graph import StateGraph, START, END\n",
    "\n",
    "# Build graph\n",
    "builder = StateGraph(State)\n",
    "builder.add_node(\"node_greeting\", node_greeting)\n",
    "builder.add_node(\"node_happy\", node_happy)\n",
    "builder.add_node(\"node_sad\", node_sad)\n",
    "\n",
    "# Logic\n",
    "builder.add_edge(START, \"node_greeting\")\n",
    "builder.add_conditional_edges(\"node_greeting\", decide_mood)\n",
    "builder.add_edge(\"node_happy\", END)\n",
    "builder.add_edge(\"node_sad\", END)\n",
    "\n",
    "# Add\n",
    "graph = builder.compile()\n",
    "\n",
    "# View\n",
    "display(Image(graph.get_graph().draw_mermaid_png()))"
   ]
  },
  {
   "cell_type": "markdown",
   "metadata": {},
   "source": [
    "## Graph Invocation\n",
    "\n",
    "Once the graph is compiled, you can execute it using the `invoke` method. This method is part of LangChain's [Runnable Protocol](https://python.langchain.com/v0.1/docs/expression_language/interface/), which standardizes the execution process for LangChain components.\n",
    "\n",
    "### Key Steps in Graph Invocation\n",
    "\n",
    "1. **Initializing the Input State**\n",
    "   - Before execution, the graph requires an initial input state to begin processing.\n",
    "   - Example:\n",
    "     ```python\n",
    "     {\"graph_state\": \"Hi, this is Shakiba.\"}\n",
    "     ```\n",
    "     This dictionary initializes the `graph_state` and provides the starting context for the workflow.\n",
    "\n",
    "2. **Execution Flow**\n",
    "   - The graph begins execution from the `START` node, which is the entry point.\n",
    "   - It then progresses through the nodes (`node_greeting`, `node_happy`, `node_sad`), following the structure and rules defined during graph construction.\n",
    "   - Conditional edges are evaluated during execution to decide the next node. For example, a 50/50 random decision might lead the graph to either `node_happy` or `node_sad`.\n",
    "\n",
    "3. **State Updates**\n",
    "   - At each step:\n",
    "     - The current state is passed as input to the node function.\n",
    "     - The node processes the input and returns an updated state.\n",
    "     - The new state is then used for the subsequent nodes.\n",
    "\n",
    "4. **Reaching the End**\n",
    "   - The workflow continues until it arrives at the `END` node, signaling the completion of the graph execution.\n",
    "\n",
    "### Why Use `invoke`?\n",
    "The `invoke` method simplifies the process of running the graph by handling:\n",
    "- Node execution\n",
    "- Edge traversal\n",
    "- State management\n",
    "\n",
    "This ensures a seamless execution flow without requiring manual intervention, allowing you to focus on building robust workflows.\n",
    "\n",
    "For further details, refer to the [LangGraph Low-Level Concepts](https://langchain-ai.github.io/langgraph/concepts/low_level/).\n"
   ]
  },
  {
   "cell_type": "code",
   "execution_count": 22,
   "metadata": {},
   "outputs": [
    {
     "name": "stdout",
     "output_type": "stream",
     "text": [
      "---Node Greeting---\n",
      "---Deciding Next Node---\n",
      "---Node Happy---\n"
     ]
    },
    {
     "data": {
      "text/plain": [
       "{'graph_state': 'Hi, this is Shakiba. Hello! I am very happy today!'}"
      ]
     },
     "execution_count": 22,
     "metadata": {},
     "output_type": "execute_result"
    }
   ],
   "source": [
    "graph.invoke({\"graph_state\" : \"Hi, this is Shakiba.\"})"
   ]
  },
  {
   "cell_type": "code",
   "execution_count": null,
   "metadata": {},
   "outputs": [],
   "source": []
  }
 ],
 "metadata": {
  "kernelspec": {
   "display_name": "venv",
   "language": "python",
   "name": "python3"
  },
  "language_info": {
   "codemirror_mode": {
    "name": "ipython",
    "version": 3
   },
   "file_extension": ".py",
   "mimetype": "text/x-python",
   "name": "python",
   "nbconvert_exporter": "python",
   "pygments_lexer": "ipython3",
   "version": "3.11.3"
  }
 },
 "nbformat": 4,
 "nbformat_minor": 2
}
